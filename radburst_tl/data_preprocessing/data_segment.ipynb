{
 "cells": [
  {
   "cell_type": "code",
   "execution_count": 8,
   "metadata": {},
   "outputs": [],
   "source": [
    "import pandas as pd\n",
    "from data_segment import read_csv_file\n",
    "file_path = '/Users/remiliascarlet/Desktop/MDP/transfer_learning/burst_data/csv/240330182002-PeachMountian.csv'\n"
   ]
  },
  {
   "cell_type": "code",
   "execution_count": 9,
   "metadata": {},
   "outputs": [
    {
     "name": "stdout",
     "output_type": "stream",
     "text": [
      "DataFrame head:\n",
      "          Date          Time   24004000   23984469   23964937   23945405  \\\n",
      "0  2024/03/30  18:20:02.345       6496       3618       2101       1476   \n",
      "1  2024/03/30  18:20:02.445       6494       3613       2114       1465   \n",
      "2  2024/03/30  18:20:02.545       6500       3631       2101       1448   \n",
      "3  2024/03/30  18:20:02.645       6487       3608       2090       1443   \n",
      "4  2024/03/30  18:20:02.745       6454       4711       4595       4394   \n",
      "\n",
      "    23925874   23906342   23886810   23867279  ...   16171786   16152254  \\\n",
      "0       1136        938        927       1016  ...       2239       3106   \n",
      "1       1164        961        955        988  ...       3286       2847   \n",
      "2       1137        946        887       1041  ...       2341       2229   \n",
      "3       1135        949        920        981  ...       2276       2564   \n",
      "4       4492       4510       4439       4727  ...       4973       4738   \n",
      "\n",
      "    16132722   16113191   16093659   16074127   16054596   16035064  \\\n",
      "0       3747       2410       2197       2213       2215       2207   \n",
      "1       2226       2165       2157       2181       2202       2208   \n",
      "2       2196       3246       2626       2287       2231       2288   \n",
      "3       3809       3467       2325       2248       2264       2208   \n",
      "4       5139       4749       4972       4744       5117       4565   \n",
      "\n",
      "    16015532   15996000  \n",
      "0       2268       2551  \n",
      "1       2249       2794  \n",
      "2       2310       2739  \n",
      "3       2337       2752  \n",
      "4       4611       4651  \n",
      "\n",
      "[5 rows x 413 columns]\n"
     ]
    }
   ],
   "source": [
    "df = read_csv_file(file_path)\n",
    "if df is not None:\n",
    "    print(\"DataFrame head:\\n\", df.head())"
   ]
  },
  {
   "cell_type": "markdown",
   "metadata": {},
   "source": []
  }
 ],
 "metadata": {
  "kernelspec": {
   "display_name": ".venv",
   "language": "python",
   "name": "python3"
  },
  "language_info": {
   "codemirror_mode": {
    "name": "ipython",
    "version": 3
   },
   "file_extension": ".py",
   "mimetype": "text/x-python",
   "name": "python",
   "nbconvert_exporter": "python",
   "pygments_lexer": "ipython3",
   "version": "3.13.1"
  }
 },
 "nbformat": 4,
 "nbformat_minor": 2
}
