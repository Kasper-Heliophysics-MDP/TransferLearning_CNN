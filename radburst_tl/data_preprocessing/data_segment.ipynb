{
 "cells": [
  {
   "cell_type": "code",
   "execution_count": 34,
   "metadata": {},
   "outputs": [],
   "source": [
    "import pandas as pd\n",
    "import matplotlib.pyplot as plt\n",
    "from read_csv_file import read_csv_file\n",
    "file_path = '/Users/remiliascarlet/Desktop/MDP/transfer_learning/burst_data/csv/240330182002-PeachMountian.csv'\n"
   ]
  },
  {
   "cell_type": "code",
   "execution_count": 35,
   "metadata": {},
   "outputs": [],
   "source": [
    "df = read_csv_file(file_path)\n",
    "# if df is not None:\n",
    "#     print(\"DataFrame head:\\n\", df)\n",
    "\n",
    "dates = df['Date']\n",
    "times = df['Time']\n",
    "frequency = df.columns[2:].astype(int)\n",
    "data = df.iloc[:, 2:]\n",
    "\n",
    "# print(\"Dates:\\n\", dates.head())\n",
    "# print(\"Times:\\n\", times.head())\n",
    "# print(\"Frequency (Hz):\\n\", frequency)\n",
    "# print(\"Data:\\n\", data.head())"
   ]
  },
  {
   "cell_type": "code",
   "execution_count": 36,
   "metadata": {},
   "outputs": [
    {
     "name": "stderr",
     "output_type": "stream",
     "text": [
      "/Users/remiliascarlet/Desktop/MDP/transfer_learning/radburst_tl/data_preprocessing/data_denoise.py:22: FutureWarning: `rectangle` is deprecated since version 0.25 and will be removed in version 0.27. Use `skimage.morphology.footprint_rectangle` instead.\n",
      "  structuring_element = rectangle(1, 4).reshape(1, 4)\n"
     ]
    },
    {
     "ename": "RuntimeError",
     "evalue": "structure and input must have same dimensionality",
     "output_type": "error",
     "traceback": [
      "\u001b[31m---------------------------------------------------------------------------\u001b[39m",
      "\u001b[31mRuntimeError\u001b[39m                              Traceback (most recent call last)",
      "\u001b[36mCell\u001b[39m\u001b[36m \u001b[39m\u001b[32mIn[36]\u001b[39m\u001b[32m, line 3\u001b[39m\n\u001b[32m      1\u001b[39m \u001b[38;5;28;01mfrom\u001b[39;00m\u001b[38;5;250m \u001b[39m\u001b[34;01mdata_denoise\u001b[39;00m\u001b[38;5;250m \u001b[39m\u001b[38;5;28;01mimport\u001b[39;00m detect_srb\n\u001b[32m----> \u001b[39m\u001b[32m3\u001b[39m cleaned_mask = \u001b[43mdetect_srb\u001b[49m\u001b[43m(\u001b[49m\u001b[43mdata\u001b[49m\u001b[43m)\u001b[49m\n\u001b[32m      5\u001b[39m plt.figure(figsize=(\u001b[32m12\u001b[39m, \u001b[32m6\u001b[39m))\n\u001b[32m      7\u001b[39m plt.subplot(\u001b[32m2\u001b[39m, \u001b[32m1\u001b[39m, \u001b[32m1\u001b[39m)\n",
      "\u001b[36mFile \u001b[39m\u001b[32m~/Desktop/MDP/transfer_learning/radburst_tl/data_preprocessing/data_denoise.py:23\u001b[39m, in \u001b[36mdetect_srb\u001b[39m\u001b[34m(data, percentile)\u001b[39m\n\u001b[32m     21\u001b[39m \u001b[38;5;66;03m# 确保结构元素和数据都是一维的\u001b[39;00m\n\u001b[32m     22\u001b[39m structuring_element = rectangle(\u001b[32m1\u001b[39m, \u001b[32m4\u001b[39m).reshape(\u001b[32m1\u001b[39m, \u001b[32m4\u001b[39m)\n\u001b[32m---> \u001b[39m\u001b[32m23\u001b[39m cleaned_mask = \u001b[43mbinary_opening\u001b[49m\u001b[43m(\u001b[49m\u001b[43mmask\u001b[49m\u001b[43m,\u001b[49m\u001b[43m \u001b[49m\u001b[43mfootprint\u001b[49m\u001b[43m=\u001b[49m\u001b[43mstructuring_element\u001b[49m\u001b[43m)\u001b[49m\n\u001b[32m     25\u001b[39m \u001b[38;5;28;01mreturn\u001b[39;00m cleaned_mask\n",
      "\u001b[36mFile \u001b[39m\u001b[32m~/Desktop/MDP/transfer_learning/.venv/lib/python3.13/site-packages/skimage/morphology/misc.py:50\u001b[39m, in \u001b[36mdefault_footprint.<locals>.func_out\u001b[39m\u001b[34m(image, footprint, *args, **kwargs)\u001b[39m\n\u001b[32m     48\u001b[39m \u001b[38;5;28;01mif\u001b[39;00m footprint \u001b[38;5;129;01mis\u001b[39;00m \u001b[38;5;28;01mNone\u001b[39;00m:\n\u001b[32m     49\u001b[39m     footprint = ndi.generate_binary_structure(image.ndim, \u001b[32m1\u001b[39m)\n\u001b[32m---> \u001b[39m\u001b[32m50\u001b[39m \u001b[38;5;28;01mreturn\u001b[39;00m \u001b[43mfunc\u001b[49m\u001b[43m(\u001b[49m\u001b[43mimage\u001b[49m\u001b[43m,\u001b[49m\u001b[43m \u001b[49m\u001b[43mfootprint\u001b[49m\u001b[43m=\u001b[49m\u001b[43mfootprint\u001b[49m\u001b[43m,\u001b[49m\u001b[43m \u001b[49m\u001b[43m*\u001b[49m\u001b[43margs\u001b[49m\u001b[43m,\u001b[49m\u001b[43m \u001b[49m\u001b[43m*\u001b[49m\u001b[43m*\u001b[49m\u001b[43mkwargs\u001b[49m\u001b[43m)\u001b[49m\n",
      "\u001b[36mFile \u001b[39m\u001b[32m~/Desktop/MDP/transfer_learning/.venv/lib/python3.13/site-packages/skimage/morphology/binary.py:257\u001b[39m, in \u001b[36mbinary_opening\u001b[39m\u001b[34m(image, footprint, out, mode)\u001b[39m\n\u001b[32m    201\u001b[39m \u001b[38;5;129m@default_footprint\u001b[39m\n\u001b[32m    202\u001b[39m \u001b[38;5;28;01mdef\u001b[39;00m\u001b[38;5;250m \u001b[39m\u001b[34mbinary_opening\u001b[39m(image, footprint=\u001b[38;5;28;01mNone\u001b[39;00m, out=\u001b[38;5;28;01mNone\u001b[39;00m, *, mode=\u001b[33m'\u001b[39m\u001b[33mignore\u001b[39m\u001b[33m'\u001b[39m):\n\u001b[32m    203\u001b[39m \u001b[38;5;250m    \u001b[39m\u001b[33;03m\"\"\"Return fast binary morphological opening of an image.\u001b[39;00m\n\u001b[32m    204\u001b[39m \n\u001b[32m    205\u001b[39m \u001b[33;03m    This function returns the same result as grayscale opening but performs\u001b[39;00m\n\u001b[32m   (...)\u001b[39m\u001b[32m    255\u001b[39m \n\u001b[32m    256\u001b[39m \u001b[33;03m    \"\"\"\u001b[39;00m\n\u001b[32m--> \u001b[39m\u001b[32m257\u001b[39m     tmp = \u001b[43mbinary_erosion\u001b[49m\u001b[43m(\u001b[49m\u001b[43mimage\u001b[49m\u001b[43m,\u001b[49m\u001b[43m \u001b[49m\u001b[43mfootprint\u001b[49m\u001b[43m,\u001b[49m\u001b[43m \u001b[49m\u001b[43mmode\u001b[49m\u001b[43m=\u001b[49m\u001b[43mmode\u001b[49m\u001b[43m)\u001b[49m\n\u001b[32m    258\u001b[39m     out = binary_dilation(tmp, footprint, out=out, mode=mode)\n\u001b[32m    259\u001b[39m     \u001b[38;5;28;01mreturn\u001b[39;00m out\n",
      "\u001b[36mFile \u001b[39m\u001b[32m~/Desktop/MDP/transfer_learning/.venv/lib/python3.13/site-packages/skimage/morphology/misc.py:50\u001b[39m, in \u001b[36mdefault_footprint.<locals>.func_out\u001b[39m\u001b[34m(image, footprint, *args, **kwargs)\u001b[39m\n\u001b[32m     48\u001b[39m \u001b[38;5;28;01mif\u001b[39;00m footprint \u001b[38;5;129;01mis\u001b[39;00m \u001b[38;5;28;01mNone\u001b[39;00m:\n\u001b[32m     49\u001b[39m     footprint = ndi.generate_binary_structure(image.ndim, \u001b[32m1\u001b[39m)\n\u001b[32m---> \u001b[39m\u001b[32m50\u001b[39m \u001b[38;5;28;01mreturn\u001b[39;00m \u001b[43mfunc\u001b[49m\u001b[43m(\u001b[49m\u001b[43mimage\u001b[49m\u001b[43m,\u001b[49m\u001b[43m \u001b[49m\u001b[43mfootprint\u001b[49m\u001b[43m=\u001b[49m\u001b[43mfootprint\u001b[49m\u001b[43m,\u001b[49m\u001b[43m \u001b[49m\u001b[43m*\u001b[49m\u001b[43margs\u001b[49m\u001b[43m,\u001b[49m\u001b[43m \u001b[49m\u001b[43m*\u001b[49m\u001b[43m*\u001b[49m\u001b[43mkwargs\u001b[49m\u001b[43m)\u001b[49m\n",
      "\u001b[36mFile \u001b[39m\u001b[32m~/Desktop/MDP/transfer_learning/.venv/lib/python3.13/site-packages/skimage/morphology/binary.py:110\u001b[39m, in \u001b[36mbinary_erosion\u001b[39m\u001b[34m(image, footprint, out, mode)\u001b[39m\n\u001b[32m    107\u001b[39m \u001b[38;5;28;01mif\u001b[39;00m \u001b[38;5;129;01mnot\u001b[39;00m _footprint_is_sequence(footprint):\n\u001b[32m    108\u001b[39m     footprint = [(footprint, \u001b[32m1\u001b[39m)]\n\u001b[32m--> \u001b[39m\u001b[32m110\u001b[39m out = \u001b[43m_iterate_binary_func\u001b[49m\u001b[43m(\u001b[49m\n\u001b[32m    111\u001b[39m \u001b[43m    \u001b[49m\u001b[43mbinary_func\u001b[49m\u001b[43m=\u001b[49m\u001b[43mndi\u001b[49m\u001b[43m.\u001b[49m\u001b[43mbinary_erosion\u001b[49m\u001b[43m,\u001b[49m\n\u001b[32m    112\u001b[39m \u001b[43m    \u001b[49m\u001b[43mimage\u001b[49m\u001b[43m=\u001b[49m\u001b[43mimage\u001b[49m\u001b[43m,\u001b[49m\n\u001b[32m    113\u001b[39m \u001b[43m    \u001b[49m\u001b[43mfootprint\u001b[49m\u001b[43m=\u001b[49m\u001b[43mfootprint\u001b[49m\u001b[43m,\u001b[49m\n\u001b[32m    114\u001b[39m \u001b[43m    \u001b[49m\u001b[43mout\u001b[49m\u001b[43m=\u001b[49m\u001b[43mout\u001b[49m\u001b[43m,\u001b[49m\n\u001b[32m    115\u001b[39m \u001b[43m    \u001b[49m\u001b[43mborder_value\u001b[49m\u001b[43m=\u001b[49m\u001b[43mborder_value\u001b[49m\u001b[43m,\u001b[49m\n\u001b[32m    116\u001b[39m \u001b[43m\u001b[49m\u001b[43m)\u001b[49m\n\u001b[32m    117\u001b[39m \u001b[38;5;28;01mreturn\u001b[39;00m out\n",
      "\u001b[36mFile \u001b[39m\u001b[32m~/Desktop/MDP/transfer_learning/.venv/lib/python3.13/site-packages/skimage/morphology/binary.py:20\u001b[39m, in \u001b[36m_iterate_binary_func\u001b[39m\u001b[34m(binary_func, image, footprint, out, border_value)\u001b[39m\n\u001b[32m     13\u001b[39m \u001b[38;5;250m\u001b[39m\u001b[33;03m\"\"\"Helper to call `binary_func` for each footprint in a sequence.\u001b[39;00m\n\u001b[32m     14\u001b[39m \n\u001b[32m     15\u001b[39m \u001b[33;03mbinary_func is a binary morphology function that accepts \"structure\",\u001b[39;00m\n\u001b[32m     16\u001b[39m \u001b[33;03m\"output\" and \"iterations\" keyword arguments\u001b[39;00m\n\u001b[32m     17\u001b[39m \u001b[33;03m(e.g. `scipy.ndimage.binary_erosion`).\u001b[39;00m\n\u001b[32m     18\u001b[39m \u001b[33;03m\"\"\"\u001b[39;00m\n\u001b[32m     19\u001b[39m fp, num_iter = footprint[\u001b[32m0\u001b[39m]\n\u001b[32m---> \u001b[39m\u001b[32m20\u001b[39m \u001b[43mbinary_func\u001b[49m\u001b[43m(\u001b[49m\n\u001b[32m     21\u001b[39m \u001b[43m    \u001b[49m\u001b[43mimage\u001b[49m\u001b[43m,\u001b[49m\u001b[43m \u001b[49m\u001b[43mstructure\u001b[49m\u001b[43m=\u001b[49m\u001b[43mfp\u001b[49m\u001b[43m,\u001b[49m\u001b[43m \u001b[49m\u001b[43moutput\u001b[49m\u001b[43m=\u001b[49m\u001b[43mout\u001b[49m\u001b[43m,\u001b[49m\u001b[43m \u001b[49m\u001b[43miterations\u001b[49m\u001b[43m=\u001b[49m\u001b[43mnum_iter\u001b[49m\u001b[43m,\u001b[49m\u001b[43m \u001b[49m\u001b[43mborder_value\u001b[49m\u001b[43m=\u001b[49m\u001b[43mborder_value\u001b[49m\n\u001b[32m     22\u001b[39m \u001b[43m\u001b[49m\u001b[43m)\u001b[49m\n\u001b[32m     23\u001b[39m \u001b[38;5;28;01mfor\u001b[39;00m fp, num_iter \u001b[38;5;129;01min\u001b[39;00m footprint[\u001b[32m1\u001b[39m:]:\n\u001b[32m     24\u001b[39m     \u001b[38;5;66;03m# Note: out.copy() because the computation cannot be in-place!\u001b[39;00m\n\u001b[32m     25\u001b[39m     \u001b[38;5;66;03m#       SciPy <= 1.7 did not automatically make a copy if needed.\u001b[39;00m\n\u001b[32m     26\u001b[39m     binary_func(\n\u001b[32m     27\u001b[39m         out.copy(),\n\u001b[32m     28\u001b[39m         structure=fp,\n\u001b[32m   (...)\u001b[39m\u001b[32m     31\u001b[39m         border_value=border_value,\n\u001b[32m     32\u001b[39m     )\n",
      "\u001b[36mFile \u001b[39m\u001b[32m~/Desktop/MDP/transfer_learning/.venv/lib/python3.13/site-packages/scipy/ndimage/_morphology.py:399\u001b[39m, in \u001b[36mbinary_erosion\u001b[39m\u001b[34m(input, structure, iterations, mask, output, border_value, origin, brute_force, axes)\u001b[39m\n\u001b[32m    301\u001b[39m \u001b[38;5;28;01mdef\u001b[39;00m\u001b[38;5;250m \u001b[39m\u001b[34mbinary_erosion\u001b[39m(\u001b[38;5;28minput\u001b[39m, structure=\u001b[38;5;28;01mNone\u001b[39;00m, iterations=\u001b[32m1\u001b[39m, mask=\u001b[38;5;28;01mNone\u001b[39;00m, output=\u001b[38;5;28;01mNone\u001b[39;00m,\n\u001b[32m    302\u001b[39m                    border_value=\u001b[32m0\u001b[39m, origin=\u001b[32m0\u001b[39m, brute_force=\u001b[38;5;28;01mFalse\u001b[39;00m, *, axes=\u001b[38;5;28;01mNone\u001b[39;00m):\n\u001b[32m    303\u001b[39m \u001b[38;5;250m    \u001b[39m\u001b[33;03m\"\"\"\u001b[39;00m\n\u001b[32m    304\u001b[39m \u001b[33;03m    Multidimensional binary erosion with a given structuring element.\u001b[39;00m\n\u001b[32m    305\u001b[39m \n\u001b[32m   (...)\u001b[39m\u001b[32m    397\u001b[39m \n\u001b[32m    398\u001b[39m \u001b[33;03m    \"\"\"\u001b[39;00m\n\u001b[32m--> \u001b[39m\u001b[32m399\u001b[39m     \u001b[38;5;28;01mreturn\u001b[39;00m \u001b[43m_binary_erosion\u001b[49m\u001b[43m(\u001b[49m\u001b[38;5;28;43minput\u001b[39;49m\u001b[43m,\u001b[49m\u001b[43m \u001b[49m\u001b[43mstructure\u001b[49m\u001b[43m,\u001b[49m\u001b[43m \u001b[49m\u001b[43miterations\u001b[49m\u001b[43m,\u001b[49m\u001b[43m \u001b[49m\u001b[43mmask\u001b[49m\u001b[43m,\u001b[49m\n\u001b[32m    400\u001b[39m \u001b[43m                           \u001b[49m\u001b[43moutput\u001b[49m\u001b[43m,\u001b[49m\u001b[43m \u001b[49m\u001b[43mborder_value\u001b[49m\u001b[43m,\u001b[49m\u001b[43m \u001b[49m\u001b[43morigin\u001b[49m\u001b[43m,\u001b[49m\u001b[43m \u001b[49m\u001b[32;43m0\u001b[39;49m\u001b[43m,\u001b[49m\u001b[43m \u001b[49m\u001b[43mbrute_force\u001b[49m\u001b[43m,\u001b[49m\u001b[43m \u001b[49m\u001b[43maxes\u001b[49m\u001b[43m)\u001b[49m\n",
      "\u001b[36mFile \u001b[39m\u001b[32m~/Desktop/MDP/transfer_learning/.venv/lib/python3.13/site-packages/scipy/ndimage/_morphology.py:238\u001b[39m, in \u001b[36m_binary_erosion\u001b[39m\u001b[34m(input, structure, iterations, mask, output, border_value, origin, invert, brute_force, axes)\u001b[39m\n\u001b[32m    234\u001b[39m     structure = _filters._expand_footprint(ndim, axes, structure,\n\u001b[32m    235\u001b[39m                                            footprint_name=\u001b[33m\"\u001b[39m\u001b[33mstructure\u001b[39m\u001b[33m\"\u001b[39m)\n\u001b[32m    237\u001b[39m \u001b[38;5;28;01mif\u001b[39;00m structure.ndim != \u001b[38;5;28minput\u001b[39m.ndim:\n\u001b[32m--> \u001b[39m\u001b[32m238\u001b[39m     \u001b[38;5;28;01mraise\u001b[39;00m \u001b[38;5;167;01mRuntimeError\u001b[39;00m(\u001b[33m'\u001b[39m\u001b[33mstructure and input must have same dimensionality\u001b[39m\u001b[33m'\u001b[39m)\n\u001b[32m    239\u001b[39m \u001b[38;5;28;01mif\u001b[39;00m \u001b[38;5;129;01mnot\u001b[39;00m structure.flags.contiguous:\n\u001b[32m    240\u001b[39m     structure = structure.copy()\n",
      "\u001b[31mRuntimeError\u001b[39m: structure and input must have same dimensionality"
     ]
    }
   ],
   "source": [
    "from data_denoise import detect_srb\n",
    "\n",
    "cleaned_mask = detect_srb(data)\n",
    "\n",
    "plt.figure(figsize=(12, 6))\n",
    "\n",
    "plt.subplot(2, 1, 1)\n",
    "plt.plot(data, label='Original Spectrum')\n",
    "plt.title('Original Spectrum')\n",
    "plt.xlabel('Time')\n",
    "plt.ylabel('Amplitude')\n",
    "plt.legend()\n",
    "\n",
    "plt.subplot(2, 1, 2)\n",
    "plt.plot(cleaned_mask, label='Processed Mask', color='orange')\n",
    "plt.title('Processed Mask')\n",
    "plt.xlabel('Time')\n",
    "plt.ylabel('Mask')\n",
    "plt.legend()\n",
    "\n",
    "plt.tight_layout()\n",
    "plt.show()"
   ]
  },
  {
   "cell_type": "markdown",
   "metadata": {},
   "source": []
  }
 ],
 "metadata": {
  "kernelspec": {
   "display_name": ".venv",
   "language": "python",
   "name": "python3"
  },
  "language_info": {
   "codemirror_mode": {
    "name": "ipython",
    "version": 3
   },
   "file_extension": ".py",
   "mimetype": "text/x-python",
   "name": "python",
   "nbconvert_exporter": "python",
   "pygments_lexer": "ipython3",
   "version": "3.13.1"
  }
 },
 "nbformat": 4,
 "nbformat_minor": 2
}
