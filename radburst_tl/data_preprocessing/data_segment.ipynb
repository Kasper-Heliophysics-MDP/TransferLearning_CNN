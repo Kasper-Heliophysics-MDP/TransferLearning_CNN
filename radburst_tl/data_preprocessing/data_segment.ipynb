{
 "cells": [
  {
   "cell_type": "code",
   "execution_count": 35,
   "metadata": {},
   "outputs": [],
   "source": [
    "import pandas as pd\n",
    "import matplotlib.pyplot as plt\n",
    "from read_csv_file import read_csv_file\n",
    "file_path = '/Users/remiliascarlet/Desktop/MDP/transfer_learning/burst_data/csv/240330182002-PeachMountian.csv'\n"
   ]
  },
  {
   "cell_type": "code",
   "execution_count": 36,
   "metadata": {},
   "outputs": [],
   "source": [
    "df = read_csv_file(file_path)\n",
    "# if df is not None:\n",
    "#     print(\"DataFrame head:\\n\", df)\n",
    "\n",
    "dates = df['Date']\n",
    "times = df['Time']\n",
    "frequency = df.columns[2:].astype(int)\n",
    "data = df.iloc[:, 2:]\n",
    "\n",
    "# print(\"Dates:\\n\", dates.head())\n",
    "# print(\"Times:\\n\", times.head())\n",
    "# print(\"Frequency (Hz):\\n\", frequency)\n",
    "# print(\"Data:\\n\", data.head())"
   ]
  },
  {
   "cell_type": "code",
   "execution_count": 37,
   "metadata": {},
   "outputs": [
    {
     "ename": "ImportError",
     "evalue": "cannot import name 'remove_vertical_noise' from 'data_denoise' (/Users/remiliascarlet/Desktop/MDP/transfer_learning/radburst_tl/data_preprocessing/data_denoise.py)",
     "output_type": "error",
     "traceback": [
      "\u001b[31m---------------------------------------------------------------------------\u001b[39m",
      "\u001b[31mImportError\u001b[39m                               Traceback (most recent call last)",
      "\u001b[36mCell\u001b[39m\u001b[36m \u001b[39m\u001b[32mIn[37]\u001b[39m\u001b[32m, line 1\u001b[39m\n\u001b[32m----> \u001b[39m\u001b[32m1\u001b[39m \u001b[38;5;28;01mfrom\u001b[39;00m\u001b[38;5;250m \u001b[39m\u001b[34;01mdata_denoise\u001b[39;00m\u001b[38;5;250m \u001b[39m\u001b[38;5;28;01mimport\u001b[39;00m remove_vertical_noise\n\u001b[32m      2\u001b[39m \u001b[38;5;28;01mfrom\u001b[39;00m\u001b[38;5;250m \u001b[39m\u001b[34;01mdata_denoise\u001b[39;00m\u001b[38;5;250m \u001b[39m\u001b[38;5;28;01mimport\u001b[39;00m detect_srb\n\u001b[32m      4\u001b[39m removed_data = remove_vertical_noise(data)\n",
      "\u001b[31mImportError\u001b[39m: cannot import name 'remove_vertical_noise' from 'data_denoise' (/Users/remiliascarlet/Desktop/MDP/transfer_learning/radburst_tl/data_preprocessing/data_denoise.py)"
     ]
    }
   ],
   "source": [
    "from data_denoise import remove_vertical_noise\n",
    "from data_denoise import detect_srb\n",
    "\n",
    "removed_data = remove_vertical_noise(data)\n",
    "\n",
    "cleaned_mask = detect_srb(removed_data)\n",
    "\n",
    "plt.figure(figsize=(12, 6))\n",
    "\n",
    "plt.subplot(2, 1, 1)\n",
    "plt.imshow(removed_data.T, aspect='auto', origin='lower', cmap='viridis')\n",
    "plt.title('Original Spectrum')\n",
    "plt.xlabel('Time')\n",
    "plt.ylabel('Frequency (Hz)')\n",
    "plt.colorbar(label='Amplitude')\n",
    "\n",
    "plt.subplot(2, 1, 2)\n",
    "plt.plot(cleaned_mask, label='Processed Mask', color='orange')\n",
    "plt.title('Processed Mask')\n",
    "plt.xlabel('Time')\n",
    "plt.ylabel('Mask')\n",
    "plt.legend()\n",
    "\n",
    "plt.tight_layout()\n",
    "plt.show()"
   ]
  },
  {
   "cell_type": "markdown",
   "metadata": {},
   "source": []
  }
 ],
 "metadata": {
  "kernelspec": {
   "display_name": ".venv",
   "language": "python",
   "name": "python3"
  },
  "language_info": {
   "codemirror_mode": {
    "name": "ipython",
    "version": 3
   },
   "file_extension": ".py",
   "mimetype": "text/x-python",
   "name": "python",
   "nbconvert_exporter": "python",
   "pygments_lexer": "ipython3",
   "version": "3.13.1"
  }
 },
 "nbformat": 4,
 "nbformat_minor": 2
}
