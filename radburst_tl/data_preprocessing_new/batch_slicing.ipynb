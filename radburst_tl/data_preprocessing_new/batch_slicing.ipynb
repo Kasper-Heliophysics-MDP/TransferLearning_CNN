{
  "cells": [
    {
      "cell_type": "markdown",
      "metadata": {},
      "source": [
        "# Batch Processing for All Burst Events\n",
        "\n",
        "This notebook processes all manually annotated burst events from `burst_list_240330_240729.csv` and generates 128×128 training windows for GAN training, separated by burst type.\n",
        "\n",
        "## Data Overview:\n",
        "- **Type 2**: 9 events (12%) \n",
        "- **Type 3**: 62 events (85%)\n",
        "- **Type 5**: 2 events (3%)\n",
        "- **Total**: 73 burst events\n"
      ]
    },
    {
      "cell_type": "code",
      "execution_count": null,
      "metadata": {},
      "outputs": [],
      "source": [
        "import pandas as pd\n",
        "import os\n",
        "from batch_processing import process_all_bursts_by_type, load_burst_catalog\n",
        "\n",
        "print(\"✅ Batch processing imports successful!\")\n"
      ]
    },
    {
      "cell_type": "code",
      "execution_count": null,
      "metadata": {},
      "outputs": [],
      "source": [
        "# Configuration\n",
        "CATALOG_PATH = \"/Users/remiliascarlet/Desktop/MDP/transfer_learning/burst_data/csv/original/burst_list_240330_240729.csv\"\n",
        "ORIGINAL_CSV_DIR = \"/Users/remiliascarlet/Desktop/MDP/transfer_learning/burst_data/csv/original\"\n",
        "OUTPUT_BASE_DIR = \"/Users/remiliascarlet/Desktop/MDP/transfer_learning/burst_data/csv/gan_training_windows_128\"\n",
        "\n",
        "print(f\"📋 Configuration:\")\n",
        "print(f\"   Burst catalog: {os.path.basename(CATALOG_PATH)}\")\n",
        "print(f\"   Original CSV dir: {ORIGINAL_CSV_DIR}\")\n",
        "print(f\"   Output base dir: {OUTPUT_BASE_DIR}\")\n",
        "\n",
        "# Load and preview burst catalog\n",
        "burst_df = load_burst_catalog(CATALOG_PATH)\n",
        "print(f\"\\n📄 Sample burst entries:\")\n",
        "print(burst_df.head())\n"
      ]
    },
    {
      "cell_type": "code",
      "execution_count": null,
      "metadata": {},
      "outputs": [],
      "source": [
        "# 🚀 Execute batch processing for all burst types\n",
        "print(\"🚀 Starting batch processing...\")\n",
        "print(\"This will generate 4-minute windows with 50% overlap for all 73 burst events\")\n",
        "print(\"⚠️  This may take 10-30 minutes depending on your system\")\n",
        "\n",
        "# Run the batch processing with fast mode\n",
        "results = process_all_bursts_by_type(\n",
        "    catalog_path=CATALOG_PATH,\n",
        "    original_csv_dir=ORIGINAL_CSV_DIR,\n",
        "    output_base_dir=OUTPUT_BASE_DIR,\n",
        "    window_duration=4*60,    # 4 minutes\n",
        "    overlap_ratio=0.5,       # 50% overlap\n",
        "    apply_denoising=True,    # Apply noise removal\n",
        "    cleaning_method=\"fast\"   # Use fast mode (skip Step 4 for speed)\n",
        ")\n",
        "\n",
        "print(\"\\n🎉 Batch processing completed!\")\n"
      ]
    },
    {
      "cell_type": "code",
      "execution_count": null,
      "metadata": {},
      "outputs": [],
      "source": [
        "# 📊 Analyze results and prepare for GAN training\n",
        "print(\"📊 Analyzing generated training data...\")\n",
        "\n",
        "# Detailed analysis by type\n",
        "for burst_type, result_info in results.items():\n",
        "    print(f\"\\n🔍 Type {burst_type} Analysis:\")\n",
        "    print(f\"   Successful processing: {result_info['successful_bursts']}/{result_info['total_bursts']} bursts\")\n",
        "    print(f\"   Generated windows: {result_info['total_windows']}\")\n",
        "    print(f\"   Output directory: {result_info['output_directory']}\")\n",
        "    print(f\"   Average windows per burst: {result_info['total_windows']/result_info['successful_bursts'] if result_info['successful_bursts'] > 0 else 0:.1f}\")\n",
        "    \n",
        "    # Check directory contents\n",
        "    if os.path.exists(result_info['output_directory']):\n",
        "        files = [f for f in os.listdir(result_info['output_directory']) if f.endswith('.csv')]\n",
        "        print(f\"   Files in directory: {len(files)}\")\n",
        "        if files:\n",
        "            print(f\"   Sample filenames:\")\n",
        "            for filename in files[:3]:\n",
        "                print(f\"     - {filename}\")\n",
        "\n",
        "# Total statistics\n",
        "total_windows = sum(r['total_windows'] for r in results.values())\n",
        "total_bursts = sum(r['successful_bursts'] for r in results.values())\n",
        "\n",
        "print(f\"\\n🎯 GAN Training Data Ready:\")\n",
        "print(f\"   Total windows: {total_windows}\")\n",
        "print(f\"   Total bursts: {total_bursts}\")\n",
        "print(f\"   Types available: {list(results.keys())}\")\n",
        "\n",
        "print(f\"\\n💡 Next Steps:\")\n",
        "print(f\"   1. Train separate GANs for each type (recommended)\")\n",
        "print(f\"   2. Or combine Type 3 + others for mixed training\")\n",
        "print(f\"   3. Use the 128×128 CSV files directly in DCGAN training\")\n",
        "\n",
        "# Recommendations based on data size\n",
        "print(f\"\\n📋 Training Recommendations:\")\n",
        "for burst_type, result_info in results.items():\n",
        "    windows_count = result_info['total_windows']\n",
        "    if windows_count >= 500:\n",
        "        print(f\"   Type {burst_type}: {windows_count} windows → ✅ Excellent for GAN training\")\n",
        "    elif windows_count >= 200:\n",
        "        print(f\"   Type {burst_type}: {windows_count} windows → ✅ Good for GAN training\")\n",
        "    elif windows_count >= 50:\n",
        "        print(f\"   Type {burst_type}: {windows_count} windows → ⚠️  Limited, consider data augmentation\")\n",
        "    else:\n",
        "        print(f\"   Type {burst_type}: {windows_count} windows → ❌ Too few, combine with others\")\n"
      ]
    }
  ],
  "metadata": {
    "language_info": {
      "name": "python"
    }
  },
  "nbformat": 4,
  "nbformat_minor": 2
}
