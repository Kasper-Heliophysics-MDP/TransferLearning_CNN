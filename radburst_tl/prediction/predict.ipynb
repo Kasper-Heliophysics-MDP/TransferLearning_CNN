{
 "cells": [
  {
   "cell_type": "code",
   "execution_count": null,
   "metadata": {},
   "outputs": [],
   "source": [
    "import os\n",
    "import numpy as np\n",
    "import torch\n",
    "import torch.nn.functional as F\n",
    "import cv2  # Optional: for visualization\n",
    "from torch.utils.data import DataLoader, TensorDataset\n",
    "\n",
    "device = torch.device(\"cuda\" if torch.cuda.is_available() else \"cpu\")\n",
    "print(\"Using device:\", device)"
   ]
  },
  {
   "cell_type": "code",
   "execution_count": null,
   "metadata": {},
   "outputs": [],
   "source": [
    "checkpoint_path = 'xxx.pth'  # Example checkpoint file from your checkpoints directory\n",
    "# Assuming your model architecture is defined (using build_unet from segmentation_models_pytorch for example)\n",
    "# and that you have already built the model as 'model'\n",
    "\n",
    "import segmentation_models_pytorch as smp\n",
    "\n",
    "# Build the model (for PyTorch; adjust input parameters if needed)\n",
    "model = smp.Unet(\n",
    "    encoder_name=\"resnet34\",   # backbone architecture\n",
    "    encoder_weights=\"imagenet\",  # pretrained on ImageNet for transfer learning\n",
    "    in_channels=1,             # input channels (assume grayscale spectrogram)\n",
    "    classes=1,                 # binary segmentation output\n",
    "    activation=\"sigmoid\"       # to get probability output\n",
    ")\n",
    "model.to(device)\n",
    "\n",
    "# Load checkpoint if available\n",
    "checkpoint = torch.load(checkpoint_path, map_location=device)\n",
    "model.load_state_dict(checkpoint['model_state_dict'])\n",
    "print(\"Loaded best model from checkpoint.\")"
   ]
  },
  {
   "cell_type": "code",
   "execution_count": null,
   "metadata": {},
   "outputs": [],
   "source": [
    "import pandas as pd\n",
    "import matplotlib.pyplot as plt\n",
    "from data_preprocessing.read_csv_file import read_csv_file\n",
    "file_path = '/Users/remiliascarlet/Desktop/MDP/transfer_learning/burst_data/csv/done/240420202002-Peach Mountain.csv'\n",
    "\n",
    "df = pd.read_csv(file_path, on_bad_lines='skip')\n",
    "# if df is not None:\n",
    "#     print(\"DataFrame head:\\n\", df)\n",
    "\n",
    "dates = df['Date']\n",
    "times = df['Time']\n",
    "frequency = df.columns[2:].astype(int)\n",
    "data = df.iloc[:, 2:]\n",
    "data_correct_shape = data.T[::-1]\n",
    "\n",
    "# print(\"Dates:\\n\", dates.head())\n",
    "# print(\"Times:\\n\", times.head())\n",
    "# print(\"Frequency (Hz):\\n\", frequency)\n",
    "# print(\"Data:\\n\", data.head())"
   ]
  },
  {
   "cell_type": "code",
   "execution_count": null,
   "metadata": {},
   "outputs": [],
   "source": [
    "from data_preprocessing.data_slicing import SpectrogramSlicer\n",
    "\n",
    "tile_size = 256\n",
    "stride = 256\n",
    "slicer = SpectrogramSlicer(target_size=(256,256), overlap_ratio=0.25, random_offset=False)\n",
    "tiles, positions = slicer.slice_entire_spectrogram(data_correct_shape)\n",
    "\n",
    "print(positions)"
   ]
  },
  {
   "cell_type": "code",
   "execution_count": null,
   "metadata": {},
   "outputs": [],
   "source": [
    "model.eval()  # Set model to evaluation mode\n",
    "\n",
    "# Convert tiles to tensor; initial tile shape is (tile_size, tile_size), expand dims to (1, tile_size, tile_size)\n",
    "tiles_tensor = torch.tensor(tiles).unsqueeze(1)  # Now shape is (N, 1, tile_size, tile_size)\n",
    "tiles_tensor = tiles_tensor.to(device)\n",
    "\n",
    "# Run predictions\n",
    "with torch.no_grad():\n",
    "    preds = model(tiles_tensor)\n",
    "    # Apply threshold of 0.5 to generate binary masks\n",
    "    binary_preds = (preds > 0.5).float()\n",
    "\n",
    "# Move predictions to CPU and convert to numpy\n",
    "binary_preds_np = binary_preds.cpu().numpy()\n",
    "print(\"Predicted masks shape:\", binary_preds_np.shape)"
   ]
  },
  {
   "cell_type": "code",
   "execution_count": null,
   "metadata": {},
   "outputs": [],
   "source": [
    "from prediction.prediction_utils import reconstruct_mask\n",
    "from data_preprocessing.data_label import apply_morphological_operations, apply_rolling_median_filter\n",
    "reconstructed_mask = reconstruct_mask(binary_preds_np, positions, data_correct_shape.shape, tile_size)\n",
    "print(\"Reconstructed mask shape:\", reconstructed_mask.shape)\n",
    "\n",
    "morph_mask = apply_morphological_operations(reconstructed_mask, erosion_radius=20, dilation_radius=1, operation_sequence=['erode', 'dilate'])\n",
    "final_mask = apply_rolling_median_filter(morph_mask, window_size=5)"
   ]
  },
  {
   "cell_type": "code",
   "execution_count": null,
   "metadata": {},
   "outputs": [],
   "source": [
    "import matplotlib.pyplot as plt\n",
    "\n",
    "plt.figure(figsize=(12, 6))\n",
    "plt.subplot(1, 3, 1)\n",
    "plt.imshow(data_correct_shape, cmap='gray')\n",
    "plt.title(\"Original Spectrogram\")\n",
    "plt.axis('off')\n",
    "\n",
    "plt.subplot(1, 3, 2)\n",
    "plt.imshow(reconstructed_mask, cmap='gray')\n",
    "plt.title(\"Predicted Burst Mask\")\n",
    "plt.axis('off')\n",
    "\n",
    "plt.subplot(1, 3, 3)\n",
    "plt.imshow(final_mask, cmap='gray')\n",
    "plt.title(\"Final Burst Mask\")\n",
    "plt.axis('off')\n",
    "\n",
    "plt.tight_layout()\n",
    "plt.show()"
   ]
  }
 ],
 "metadata": {
  "kernelspec": {
   "display_name": ".venv",
   "language": "python",
   "name": "python3"
  },
  "language_info": {
   "name": "python",
   "version": "3.13.1"
  }
 },
 "nbformat": 4,
 "nbformat_minor": 2
}
